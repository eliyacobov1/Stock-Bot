{
 "cells": [
  {
   "cell_type": "markdown",
   "metadata": {},
   "source": [
    "### Imports"
   ]
  },
  {
   "cell_type": "code",
   "execution_count": 14,
   "metadata": {},
   "outputs": [],
   "source": [
    "import finnhub\n",
    "import time\n",
    "import pprint\n",
    "import pandas as pd\n",
    "from pandas_ta import *\n",
    "import matplotlib.pyplot as plt\n",
    "finnhub_client = finnhub.Client(api_key=\"c76vsr2ad3iaenbslifg\")\n"
   ]
  },
  {
   "cell_type": "markdown",
   "metadata": {},
   "source": [
    "### getCandles"
   ]
  },
  {
   "cell_type": "code",
   "execution_count": 15,
   "metadata": {},
   "outputs": [],
   "source": [
    "# stock         -> stock name.\n",
    "# resolution    -> 1, 5, 15, 30, 60, D, W, M.\n",
    "# period types  -> sec, min, hour, day, week, month, year.\n",
    "periodCalc = {'sec':\"1\",\"min\":\"60\",\"hour\":\"60*60\",\"day\":\"60*60*24\",\"week\":\"60*60*24*7\",\"month\":\"60*60*24*7*4\",\"year\":\"60*60*24*7*4*12\"}\n",
    "def getCandles(stock,resolution,period,perioType):\n",
    "    mul = eval(periodCalc.get(perioType))\n",
    "    toTime   = int(time.time())\n",
    "    fromTime = toTime - (period * mul)\n",
    "    data = (finnhub_client.stock_candles(stock, resolution, fromTime, toTime))\n",
    "    return data"
   ]
  },
  {
   "cell_type": "code",
   "execution_count": 16,
   "metadata": {},
   "outputs": [],
   "source": [
    "data = getCandles(\"AAPL\",\"D\",1,\"year\")\n",
    "# pp = pprint.PrettyPrinter(indent=4)\n",
    "\n",
    "s_open   = pd.Series(data['o'])\n",
    "s_close  = pd.Series(data['c'])\n",
    "s_high   = pd.Series(data['h'])\n",
    "s_low    = pd.Series(data['l'])"
   ]
  },
  {
   "cell_type": "markdown",
   "metadata": {},
   "source": [
    "### EMA indicator"
   ]
  },
  {
   "cell_type": "code",
   "execution_count": 17,
   "metadata": {},
   "outputs": [],
   "source": [
    "ema_200 = ema(s_close,200)\n",
    "ema_100 = ema(s_close,100)\n",
    "ema_50  = ema(s_close,50)\n",
    "ema_20  = ema(s_close,20)\n"
   ]
  },
  {
   "cell_type": "markdown",
   "metadata": {},
   "source": [
    "### RSI indicator"
   ]
  },
  {
   "cell_type": "code",
   "execution_count": 18,
   "metadata": {},
   "outputs": [],
   "source": [
    "rsi_14 = rsi(s_close)"
   ]
  },
  {
   "cell_type": "markdown",
   "metadata": {},
   "source": [
    "### SUPERTREND indicator"
   ]
  },
  {
   "cell_type": "code",
   "execution_count": 19,
   "metadata": {},
   "outputs": [],
   "source": [
    "_supertrend = supertrend(s_high,s_low,s_close,10,3)[\"SUPERT_10_3.0\"]"
   ]
  },
  {
   "cell_type": "code",
   "execution_count": 20,
   "metadata": {},
   "outputs": [
    {
     "name": "stdout",
     "output_type": "stream",
     "text": [
      "0             NaN\n",
      "1             NaN\n",
      "2             NaN\n",
      "3             NaN\n",
      "4             NaN\n",
      "          ...    \n",
      "228    147.276056\n",
      "229    147.552713\n",
      "230    147.831094\n",
      "231    148.073471\n",
      "232    148.322192\n",
      "Name: EMA_200, Length: 233, dtype: float64\n",
      "0            NaN\n",
      "1            NaN\n",
      "2            NaN\n",
      "3            NaN\n",
      "4            NaN\n",
      "         ...    \n",
      "228    49.395822\n",
      "229    54.031139\n",
      "230    54.726541\n",
      "231    48.822965\n",
      "232    50.342881\n",
      "Name: RSI_14, Length: 233, dtype: float64\n",
      "0        0.000000\n",
      "1             NaN\n",
      "2             NaN\n",
      "3             NaN\n",
      "4             NaN\n",
      "          ...    \n",
      "228    169.101956\n",
      "229    169.101956\n",
      "230    169.101956\n",
      "231    169.101956\n",
      "232    169.101956\n",
      "Name: SUPERT_10_3.0, Length: 233, dtype: float64\n"
     ]
    }
   ],
   "source": [
    "print(ema_200)\n",
    "print(rsi_14)\n",
    "print(_supertrend)\n"
   ]
  },
  {
   "cell_type": "code",
   "execution_count": 21,
   "metadata": {},
   "outputs": [],
   "source": [
    "def isEma(index):\n",
    "    return s_close[index] > ema_200[index]\n",
    "\n",
    "def isRsi(index):\n",
    "    return rsi_14[index] > 58\n",
    "\n",
    "def isSupertrend(index):\n",
    "    return s_close[index] > _supertrend[index] \n",
    "\n",
    "def isLong(index):\n",
    "    return isEma(index) and isRsi(index) and isSupertrend(index)\n",
    "\n",
    "def isShort(index):\n",
    "    return (not isEma(index)) and (not isRsi(index)) and (not isSupertrend(index))"
   ]
  },
  {
   "cell_type": "code",
   "execution_count": 22,
   "metadata": {},
   "outputs": [],
   "source": [
    "actions = []\n",
    "profit =  0\n",
    "b = False\n",
    "for index in range(len(s_close)):\n",
    "    if(isLong(index)):\n",
    "        actions.append({\"BUY\":s_close[index]})\n",
    "        if(b == False):\n",
    "            b = True\n",
    "            profit = s_close[index]        \n",
    "    elif(isShort(index)):\n",
    "        actions.append({\"SELL\":s_close[index]})\n",
    "        if(b == True):\n",
    "            b = False\n",
    "            print(profit - s_close[index])\n",
    "            profit = 0\n",
    "    else:\n",
    "        actions.append(\"NOTHING\")\n",
    "    "
   ]
  },
  {
   "cell_type": "code",
   "execution_count": 26,
   "metadata": {},
   "outputs": [
    {
     "name": "stdout",
     "output_type": "stream",
     "text": [
      "['NOTHING', {'SELL': 130.84}, {'SELL': 129.71}, {'SELL': 129.87}, {'SELL': 126.0}, {'SELL': 125.86}, {'SELL': 125.35}, {'SELL': 120.99}, {'SELL': 121.26}, {'SELL': 127.79}, 'NOTHING', 'NOTHING', 'NOTHING', 'NOTHING', 'NOTHING', 'NOTHING', 'NOTHING', 'NOTHING', 'NOTHING', 'NOTHING', 'NOTHING', 'NOTHING', 'NOTHING', 'NOTHING', 'NOTHING', 'NOTHING', 'NOTHING', 'NOTHING', 'NOTHING', 'NOTHING', 'NOTHING', 'NOTHING', 'NOTHING', 'NOTHING', 'NOTHING', 'NOTHING', 'NOTHING', 'NOTHING', 'NOTHING', 'NOTHING', 'NOTHING', 'NOTHING', 'NOTHING', 'NOTHING', 'NOTHING', 'NOTHING', 'NOTHING', 'NOTHING', 'NOTHING', 'NOTHING', 'NOTHING', 'NOTHING', 'NOTHING', 'NOTHING', 'NOTHING', 'NOTHING', 'NOTHING', 'NOTHING', {'SELL': 126.85}, {'SELL': 125.91}, {'SELL': 122.77}, {'SELL': 124.97}, {'SELL': 127.45}, {'SELL': 126.27}, {'SELL': 124.85}, {'SELL': 124.69}, {'SELL': 127.31}, {'SELL': 125.43}, {'SELL': 127.1}, {'SELL': 126.9}, {'SELL': 126.85}, {'SELL': 125.28}, {'SELL': 124.61}, {'SELL': 124.28}, {'SELL': 125.06}, {'SELL': 123.54}, {'SELL': 125.89}, {'SELL': 125.9}, {'SELL': 126.74}, {'SELL': 127.13}, {'SELL': 126.11}, {'SELL': 127.35}, 'NOTHING', {'SELL': 129.64}, 'NOTHING', 'NOTHING', 'NOTHING', 'NOTHING', 'NOTHING', 'NOTHING', 'NOTHING', 'NOTHING', 'NOTHING', 'NOTHING', 'NOTHING', 'NOTHING', 'NOTHING', 'NOTHING', 'NOTHING', 'NOTHING', 'NOTHING', 'NOTHING', 'NOTHING', 'NOTHING', 'NOTHING', 'NOTHING', 'NOTHING', 'NOTHING', 'NOTHING', 'NOTHING', 'NOTHING', 'NOTHING', 'NOTHING', 'NOTHING', 'NOTHING', 'NOTHING', 'NOTHING', 'NOTHING', 'NOTHING', 'NOTHING', 'NOTHING', 'NOTHING', 'NOTHING', 'NOTHING', 'NOTHING', 'NOTHING', 'NOTHING', 'NOTHING', 'NOTHING', 'NOTHING', 'NOTHING', 'NOTHING', 'NOTHING', 'NOTHING', 'NOTHING', 'NOTHING', 'NOTHING', 'NOTHING', 'NOTHING', 'NOTHING', 'NOTHING', 'NOTHING', 'NOTHING', 'NOTHING', 'NOTHING', 'NOTHING', {'SELL': 148.12}, {'SELL': 149.03}, {'SELL': 148.79}, {'SELL': 146.06}, {'SELL': 142.94}, {'SELL': 143.43}, {'SELL': 145.85}, {'SELL': 146.83}, {'SELL': 146.92}, {'SELL': 145.37}, {'SELL': 141.91}, {'SELL': 142.83}, {'SELL': 141.5}, {'SELL': 142.65}, {'SELL': 139.14}, {'SELL': 141.11}, {'SELL': 142.0}, {'SELL': 143.29}, {'SELL': 142.9}, {'SELL': 142.81}, {'SELL': 141.51}, {'SELL': 140.91}, {'SELL': 143.76}, {'SELL': 144.84}, {'SELL': 146.55}, 'NOTHING', 'NOTHING', 'NOTHING', 'NOTHING', 'NOTHING', 'NOTHING', 'NOTHING', 'NOTHING', 'NOTHING', 'NOTHING', 'NOTHING', 'NOTHING', 'NOTHING', 'NOTHING', 'NOTHING', 'NOTHING', 'NOTHING', 'NOTHING', 'NOTHING', 'NOTHING', 'NOTHING', 'NOTHING', 'NOTHING', 'NOTHING', 'NOTHING', 'NOTHING', 'NOTHING', 'NOTHING', {'BUY': 160.24}, {'BUY': 165.3}, {'BUY': 164.77}, {'BUY': 163.76}, {'BUY': 161.84}, {'BUY': 165.32}, {'BUY': 171.18}, {'BUY': 175.08}, {'BUY': 174.56}, {'BUY': 179.45}, {'BUY': 175.74}, {'BUY': 174.33}, {'BUY': 179.3}, {'BUY': 172.26}, 'NOTHING', 'NOTHING', {'BUY': 172.99}, {'BUY': 175.64}, {'BUY': 176.28}, {'BUY': 180.33}, {'BUY': 179.29}, {'BUY': 179.38}, {'BUY': 178.2}, {'BUY': 177.57}, {'BUY': 182.01}, {'BUY': 179.7}, 'NOTHING', 'NOTHING', 'NOTHING', 'NOTHING', 'NOTHING', 'NOTHING', 'NOTHING', 'NOTHING']\n"
     ]
    }
   ],
   "source": [
    "print((actions))"
   ]
  },
  {
   "cell_type": "code",
   "execution_count": 24,
   "metadata": {},
   "outputs": [
    {
     "data": {
      "image/png": "[encoded data removed]",
      "text/plain": [
       "<Figure size 432x288 with 1 Axes>"
      ]
     },
     "metadata": {
      "needs_background": "light"
     },
     "output_type": "display_data"
    }
   ],
   "source": [
    "plt.plot(s_close)\n",
    "plt.ylabel('some numbers')\n",
    "plt.show()"
   ]
  }
 ],
 "metadata": {
  "interpreter": {
   "hash": "5c0372ed38b372118c24adb00d45654d76c8d10261533c5724e3f5fc1d75489a"
  },
  "kernelspec": {
   "display_name": "Python 3.8.0 64-bit",
   "language": "python",
   "name": "python3"
  },
  "language_info": {
   "codemirror_mode": {
    "name": "ipython",
    "version": 3
   },
   "file_extension": ".py",
   "mimetype": "text/x-python",
   "name": "python",
   "nbconvert_exporter": "python",
   "pygments_lexer": "ipython3",
   "version": "3.8.0"
  },
  "orig_nbformat": 4
 },
 "nbformat": 4,
 "nbformat_minor": 2
}
